{
  "cells": [
    {
      "cell_type": "markdown",
      "metadata": {
        "id": "lvsm7WsNF_9R"
        


      },
      "source": [
        "# Sparkify Project Workspace\n",
        "This workspace contains a tiny subset (128MB) of the full dataset available (12GB). Feel free to use this workspace to build your project, or to explore a smaller subset with Spark before deploying your cluster on the cloud. Instructions for setting up your Spark cluster is included in the last lesson of the Extracurricular Spark Course content.\n",
        "\n",
        "You can follow the steps below to guide your data analysis and model building portion of this project."
      ]
    },
    {
      "cell_type": "code",
      "source": [
        "pip install pyspark"
      ],
      "metadata": {
        "colab": {
          "base_uri": "https://localhost:8080/"
        },
        "id": "qtPzTXV2IqSY",
        "outputId": "61caddd7-e69c-4348-945e-ecd5cc7d238f"
      },
      "execution_count": 1,
      "outputs": [
        {
          "output_type": "stream",
          "name": "stdout",
          "text": [
            "Requirement already satisfied: pyspark in /usr/local/lib/python3.7/dist-packages (3.2.0)\n",
            "Requirement already satisfied: py4j==0.10.9.2 in /usr/local/lib/python3.7/dist-packages (from pyspark) (0.10.9.2)\n"
          ]
        }
      ]
    },
    {

      "cell_type": "code",
      "source": [
        "# install openjdk-8-jdk-headless -qq    "
      ],
      "metadata": {
        "id": "iJe_kdbZJLqx"
      },
      "execution_count": 2,
      "outputs": []
    },
    {

      "cell_type": "code",
      "execution_count": 3,
      "metadata": {
        "id": "YFfVBBWqF_9X"
      },
      "outputs": [],
      "source": [
        "# import libraries\n",
        "# import libraries\n",
        "import pyspark\n",
        "from pyspark import SparkConf\n",
        "from pyspark.sql import SparkSession\n",
        "from pyspark.sql.functions import udf\n",
        "from pyspark.sql.types import StringType\n",
        "from pyspark.sql.types import IntegerType\n",
        "from pyspark.sql.functions import isnan, count, when, col, desc, udf, col, sort_array, asc, avg\n",
        "from pyspark.sql.functions import sum as Fsum\n",
        "from pyspark.sql.window import Window\n",
        "from pyspark.sql import Row\n",
        "from pyspark.sql import functions as F\n",
        "from pyspark.sql.functions import *\n",
        "\n",
        "from pyspark.ml import Pipeline\n",
        "from pyspark.ml.classification import LogisticRegression, RandomForestClassifier, GBTClassifier, LinearSVC, NaiveBayes\n",
        "from pyspark.ml.evaluation import MulticlassClassificationEvaluator\n",
        "from pyspark.ml.feature import CountVectorizer, IDF, PCA, RegexTokenizer, VectorAssembler, Normalizer, StandardScaler\n",
        "from pyspark.ml.regression import LinearRegression\n",
        "from pyspark.ml.tuning import CrossValidator, ParamGridBuilder\n",
        "\n",
        "import datetime\n",
        "import time\n",
        "\n",
        "import pandas as pd\n",
        "import numpy as np\n",
        "import re\n",
        "%matplotlib inline\n",
        "import matplotlib.pyplot as plt\n",
        "import seaborn as sns\n",
        "sns.set()\n"
      ]
    },
    {
      "cell_type": "code",
      "execution_count": 4,
      "metadata": {
        "id": "fKBlzwaqF_9Z"
      },
      "outputs": [],
      "source": [
        "\n",
        "# create a Spark session\n",
        "spark = SparkSession \\\n",
        "    .builder \\\n",
        "    .appName(\"Sparkify Project\") \\\n",
        "    .getOrCreate()"
      ]
    },
    {
      "cell_type": "code",
      "execution_count": 5,
      "metadata": {
        "colab": {
          "base_uri": "https://localhost:8080/"
        },
        "id": "jb5Y7ZfaF_9a",
        "outputId": "bdcb67c4-9696-40ed-88cb-1c63ac3924fc"
      },
      "outputs": [
        {
          "output_type": "execute_result",
          "data": {
            "text/plain": [
              "[('spark.app.id', 'local-1640066798937'),\n",
              " ('spark.rdd.compress', 'True'),\n",
              " ('spark.serializer.objectStreamReset', '100'),\n",
              " ('spark.master', 'local[*]'),\n",
              " ('spark.submit.pyFiles', ''),\n",
              " ('spark.executor.id', 'driver'),\n",
              " ('spark.driver.port', '44807'),\n",
              " ('spark.app.startTime', '1640066795135'),\n",
              " ('spark.submit.deployMode', 'client'),\n",
              " ('spark.driver.host', 'd1440250f3bb'),\n",
              " ('spark.sql.warehouse.dir', 'file:/content/spark-warehouse'),\n",
              " ('spark.ui.showConsoleProgress', 'true'),\n",
              " ('spark.app.name', 'Sparkify Project')]"
            ]
          },
          "metadata": {},
          "execution_count": 5
        }
      ],
      "source": [
        "spark.sparkContext.getConf().getAll()"
      ]
    },
    {
      "cell_type": "markdown",
      "metadata": {
        "id": "v0q-wfIvF_9c"
      },
      "source": [
        "# Load and Clean Dataset\n",
        "In this workspace, the mini-dataset file is `mini_sparkify_event_data.json`. Load and clean the dataset, checking for invalid or missing data - for example, records without userids or sessionids. "
      ]
    },
    {
      "cell_type": "markdown",
      "metadata": {
        "id": "-mXeHVuoF_9c"
      },
      "source": [
        "#### load in the dataset"
      ]
    },
    {
      "cell_type": "code",
      "source": [
        "# !unzip \"/content/mini_sparkify_event_data.zip\" -d \"/content/\""
      ],
      "metadata": {
        "id": "vhJnh1-7lcgU"
      },
      "execution_count": 6,
      "outputs": []
    },
    {
      "cell_type": "code",
      "execution_count": 7,
      "metadata": {
        "id": "ECGjHYTrF_9d"
      },
      "outputs": [],
      "source": [
        "df = spark.read.json(\"mini_sparkify_event_data.json\")"
      ]
    },
    {
      "cell_type": "code",
      "execution_count": 8,
      "metadata": {
        "colab": {
          "base_uri": "https://localhost:8080/"
        },
        "id": "MK_drerHF_9d",
        "outputId": "86077d09-5be6-4e43-a374-7a751167c859"
      },
      "outputs": [
        {
          "output_type": "stream",
          "name": "stdout",
          "text": [
            "root\n",
            " |-- artist: string (nullable = true)\n",
            " |-- auth: string (nullable = true)\n",
            " |-- firstName: string (nullable = true)\n",
            " |-- gender: string (nullable = true)\n",
            " |-- itemInSession: long (nullable = true)\n",
            " |-- lastName: string (nullable = true)\n",
            " |-- length: double (nullable = true)\n",
            " |-- level: string (nullable = true)\n",
            " |-- location: string (nullable = true)\n",
            " |-- method: string (nullable = true)\n",
            " |-- page: string (nullable = true)\n",
            " |-- registration: long (nullable = true)\n",
            " |-- sessionId: long (nullable = true)\n",
            " |-- song: string (nullable = true)\n",
            " |-- status: long (nullable = true)\n",
            " |-- ts: long (nullable = true)\n",
            " |-- userAgent: string (nullable = true)\n",
            " |-- userId: string (nullable = true)\n",
            "\n"
          ]
        }
      ],
      "source": [
        "# print the schema\n",
        "df.printSchema()"
      ]
    },
    {
      "cell_type": "code",
      "execution_count": 9,
      "metadata": {
        "colab": {
          "base_uri": "https://localhost:8080/"
        },
        "id": "QbBhqzaiF_9e",
        "outputId": "2908dfa3-583e-4bb2-b5eb-6b1a5f4775f8"
      },
      "outputs": [
        {
          "output_type": "stream",
          "name": "stdout",
          "text": [
            "+----------------+---------+---------+------+-------------+--------+---------+-----+--------------------+------+--------+-------------+---------+--------------------+------+-------------+--------------------+------+\n",
            "|          artist|     auth|firstName|gender|itemInSession|lastName|   length|level|            location|method|    page| registration|sessionId|                song|status|           ts|           userAgent|userId|\n",
            "+----------------+---------+---------+------+-------------+--------+---------+-----+--------------------+------+--------+-------------+---------+--------------------+------+-------------+--------------------+------+\n",
            "|  Martha Tilston|Logged In|    Colin|     M|           50| Freeman|277.89016| paid|     Bakersfield, CA|   PUT|NextSong|1538173362000|       29|           Rockpools|   200|1538352117000|Mozilla/5.0 (Wind...|    30|\n",
            "|Five Iron Frenzy|Logged In|    Micah|     M|           79|    Long|236.09424| free|Boston-Cambridge-...|   PUT|NextSong|1538331630000|        8|              Canada|   200|1538352180000|\"Mozilla/5.0 (Win...|     9|\n",
            "|    Adam Lambert|Logged In|    Colin|     M|           51| Freeman| 282.8273| paid|     Bakersfield, CA|   PUT|NextSong|1538173362000|       29|   Time For Miracles|   200|1538352394000|Mozilla/5.0 (Wind...|    30|\n",
            "|          Enigma|Logged In|    Micah|     M|           80|    Long|262.71302| free|Boston-Cambridge-...|   PUT|NextSong|1538331630000|        8|Knocking On Forbi...|   200|1538352416000|\"Mozilla/5.0 (Win...|     9|\n",
            "|       Daft Punk|Logged In|    Colin|     M|           52| Freeman|223.60771| paid|     Bakersfield, CA|   PUT|NextSong|1538173362000|       29|Harder Better Fas...|   200|1538352676000|Mozilla/5.0 (Wind...|    30|\n",
            "+----------------+---------+---------+------+-------------+--------+---------+-----+--------------------+------+--------+-------------+---------+--------------------+------+-------------+--------------------+------+\n",
            "only showing top 5 rows\n",
            "\n"
          ]
        }
      ],
      "source": [
        "# print 5 row of dataframe\n",
        "df.show(5)"
      ]
    },
    {
      "cell_type": "code",
      "execution_count": 10,
      "metadata": {
        "colab": {
          "base_uri": "https://localhost:8080/"
        },
        "id": "EW9u8tiEF_9f",
        "outputId": "a2927ff0-1e54-4684-cbe9-286af23557ba"
      },
      "outputs": [
        {
          "output_type": "stream",
          "name": "stdout",
          "text": [
            "The number of rows in the dataframe is 286500\n",
            "The number of columns in the dataframe is 18\n",
            "+-------+------------------+----------+---------+------+------------------+--------+\n",
            "|summary|            artist|      auth|firstName|gender|     itemInSession|lastName|\n",
            "+-------+------------------+----------+---------+------+------------------+--------+\n",
            "|  count|            228108|    286500|   278154|278154|            286500|  278154|\n",
            "|   mean| 551.0852017937219|      null|     null|  null|114.41421291448516|    null|\n",
            "| stddev|1217.7693079161374|      null|     null|  null|129.76726201141042|    null|\n",
            "|    min|               !!!| Cancelled| Adelaida|     F|                 0|   Adams|\n",
            "|    max| ÃÂlafur Arnalds|Logged Out|   Zyonna|     M|              1321|  Wright|\n",
            "+-------+------------------+----------+---------+------+------------------+--------+\n",
            "\n",
            "+-------+------------------+------+-----------------+------+-------+--------------------+-----------------+\n",
            "|summary|            length| level|         location|method|   page|        registration|        sessionId|\n",
            "+-------+------------------+------+-----------------+------+-------+--------------------+-----------------+\n",
            "|  count|            228108|286500|           278154|286500| 286500|              278154|           286500|\n",
            "|   mean|249.11718197783662|  null|             null|  null|   null|1.535358834085650...|1041.526554973822|\n",
            "| stddev| 99.23517921058307|  null|             null|  null|   null|  3.29132161632862E9|726.7762634630783|\n",
            "|    min|           0.78322|  free|       Albany, OR|   GET|  About|       1521380675000|                1|\n",
            "|    max|        3024.66567|  paid|Winston-Salem, NC|   PUT|Upgrade|       1543247354000|             2474|\n",
            "+-------+------------------+------+-----------------+------+-------+--------------------+-----------------+\n",
            "\n",
            "+-------+--------------------+------------------+--------------------+--------------------+------------------+\n",
            "|summary|                song|            status|                  ts|           userAgent|            userId|\n",
            "+-------+--------------------+------------------+--------------------+--------------------+------------------+\n",
            "|  count|              228108|            286500|              286500|              278154|            286500|\n",
            "|   mean|            Infinity|210.05459685863875|1.540956889810432E12|                null| 59682.02278593872|\n",
            "| stddev|                 NaN|31.505078488422217| 1.507543960818767E9|                null|109091.94999910527|\n",
            "|    min|\u001cÃÂg ÃÂtti Gr...|               200|       1538352117000|\"Mozilla/5.0 (Mac...|                  |\n",
            "|    max|ÃÂau hafa slopp...|               404|       1543799476000|Mozilla/5.0 (comp...|                99|\n",
            "+-------+--------------------+------------------+--------------------+--------------------+------------------+\n",
            "\n"
          ]
        }
      ],
      "source": [
        "# get the count of the dataset before we do any cleaning - this is 286500 and show some rows od dataframe\n",
        "# df.count()\n",
        "row_count = df.count()\n",
        "print(\"The number of rows in the dataframe is {}\".format(df.count()))\n",
        "print(\"The number of columns in the dataframe is {}\".format(len(df.columns)))\n",
        "df.describe(df.columns[:6]).show()\n",
        "df.describe(df.columns[6:13]).show()\n",
        "df.describe(df.columns[13:]).show()"
      ]
    },
    {
      "cell_type": "markdown",
      "metadata": {
        "id": "DPcT4D-5F_9g"
      },
      "source": [
        "####  Cleaning the Data"
      ]
    },
    {
      "cell_type": "code",
      "execution_count": 11,
      "metadata": {
        "id": "9GKDxIZvF_9h"
      },
      "outputs": [],
      "source": [
        "# drop rows with missing values in userid and/or sessionid\n",
        "df = df.dropna(how = 'any', subset = [\"userId\", \"sessionId\"])"
      ]
    },
    {
      "cell_type": "code",
      "execution_count": 12,
      "metadata": {
        "id": "3tD2Le4yF_9h"
      },
      "outputs": [],
      "source": [
        "#Remove records with empty userId\n",
        "df = df.filter(df['userId'] != '')"
      ]
    },
    {
      "cell_type": "code",
      "execution_count": 13,
      "metadata": {
        "colab": {
          "base_uri": "https://localhost:8080/"
        },
        "id": "9yaJK-p6F_9i",
        "outputId": "7d75d3ec-f309-46a0-b549-126718dfe363"
      },
      "outputs": [
        {
          "output_type": "stream",
          "name": "stdout",
          "text": [
            "The number of rows in the dataframe is 278154\n",
            "The number of columns in the dataframe is 18\n"
          ]
        }
      ],
      "source": [
        "print(\"The number of rows in the dataframe is {}\".format(df.count())) #before datacount 286500 now 278154\n",
        "print(\"The number of columns in the dataframe is {}\".format(len(df.columns)))"
      ]
    },
    {
      "cell_type": "markdown",
      "metadata": {
        "id": "-2J4ZK_wF_9i"
      },
      "source": [
        "# Exploratory Data Analysis\n",
        "When you're working with the full dataset, perform EDA by loading a small subset of the data and doing basic manipulations within Spark. In this workspace, you are already provided a small subset of data you can explore.\n",
        "\n",
        "### Define Churn\n",
        "\n",
        "Once you've done some preliminary analysis, create a column `Churn` to use as the label for your model. I suggest using the `Cancellation Confirmation` events to define your churn, which happen for both paid and free users. As a bonus task, you can also look into the `Downgrade` events.\n",
        "\n",
        "### Explore Data\n",
        "Once you've defined churn, perform some exploratory data analysis to observe the behavior for users who stayed vs users who churned. You can start by exploring aggregates on these two groups of users, observing how much of a specific action they experienced per a certain time unit or number of songs played."
      ]
    },
    {
      "cell_type": "code",
      "execution_count": 14,
      "metadata": {
        "colab": {
          "base_uri": "https://localhost:8080/",
          "height": 1000
        },
        "id": "sru3XUVHF_9j",
        "outputId": "25dc49b6-a4ba-4bc4-e4e4-ba6c11a3b3bb"
      },
      "outputs": [
        {
          "output_type": "execute_result",
          "data": {
            "text/html": [
              "\n",
              "  <div id=\"df-899bee7e-933e-4eb9-8429-57f23b2e3cee\">\n",
              "    <div class=\"colab-df-container\">\n",
              "      <div>\n",
              "<style scoped>\n",
              "    .dataframe tbody tr th:only-of-type {\n",
              "        vertical-align: middle;\n",
              "    }\n",
              "\n",
              "    .dataframe tbody tr th {\n",
              "        vertical-align: top;\n",
              "    }\n",
              "\n",
              "    .dataframe thead th {\n",
              "        text-align: right;\n",
              "    }\n",
              "</style>\n",
              "<table border=\"1\" class=\"dataframe\">\n",
              "  <thead>\n",
              "    <tr style=\"text-align: right;\">\n",
              "      <th></th>\n",
              "      <th>artist</th>\n",
              "      <th>auth</th>\n",
              "      <th>firstName</th>\n",
              "      <th>gender</th>\n",
              "      <th>itemInSession</th>\n",
              "      <th>lastName</th>\n",
              "      <th>length</th>\n",
              "      <th>level</th>\n",
              "      <th>location</th>\n",
              "      <th>method</th>\n",
              "      <th>page</th>\n",
              "      <th>registration</th>\n",
              "      <th>sessionId</th>\n",
              "      <th>song</th>\n",
              "      <th>status</th>\n",
              "      <th>ts</th>\n",
              "      <th>userAgent</th>\n",
              "      <th>userId</th>\n",
              "    </tr>\n",
              "  </thead>\n",
              "  <tbody>\n",
              "    <tr>\n",
              "      <th>0</th>\n",
              "      <td>Martha Tilston</td>\n",
              "      <td>Logged In</td>\n",
              "      <td>Colin</td>\n",
              "      <td>M</td>\n",
              "      <td>50</td>\n",
              "      <td>Freeman</td>\n",
              "      <td>277.89016</td>\n",
              "      <td>paid</td>\n",
              "      <td>Bakersfield, CA</td>\n",
              "      <td>PUT</td>\n",
              "      <td>NextSong</td>\n",
              "      <td>1538173362000</td>\n",
              "      <td>29</td>\n",
              "      <td>Rockpools</td>\n",
              "      <td>200</td>\n",
              "      <td>1538352117000</td>\n",
              "      <td>Mozilla/5.0 (Windows NT 6.1; WOW64; rv:31.0) G...</td>\n",
              "      <td>30</td>\n",
              "    </tr>\n",
              "    <tr>\n",
              "      <th>1</th>\n",
              "      <td>Five Iron Frenzy</td>\n",
              "      <td>Logged In</td>\n",
              "      <td>Micah</td>\n",
              "      <td>M</td>\n",
              "      <td>79</td>\n",
              "      <td>Long</td>\n",
              "      <td>236.09424</td>\n",
              "      <td>free</td>\n",
              "      <td>Boston-Cambridge-Newton, MA-NH</td>\n",
              "      <td>PUT</td>\n",
              "      <td>NextSong</td>\n",
              "      <td>1538331630000</td>\n",
              "      <td>8</td>\n",
              "      <td>Canada</td>\n",
              "      <td>200</td>\n",
              "      <td>1538352180000</td>\n",
              "      <td>\"Mozilla/5.0 (Windows NT 6.1; WOW64) AppleWebK...</td>\n",
              "      <td>9</td>\n",
              "    </tr>\n",
              "    <tr>\n",
              "      <th>2</th>\n",
              "      <td>Adam Lambert</td>\n",
              "      <td>Logged In</td>\n",
              "      <td>Colin</td>\n",
              "      <td>M</td>\n",
              "      <td>51</td>\n",
              "      <td>Freeman</td>\n",
              "      <td>282.82730</td>\n",
              "      <td>paid</td>\n",
              "      <td>Bakersfield, CA</td>\n",
              "      <td>PUT</td>\n",
              "      <td>NextSong</td>\n",
              "      <td>1538173362000</td>\n",
              "      <td>29</td>\n",
              "      <td>Time For Miracles</td>\n",
              "      <td>200</td>\n",
              "      <td>1538352394000</td>\n",
              "      <td>Mozilla/5.0 (Windows NT 6.1; WOW64; rv:31.0) G...</td>\n",
              "      <td>30</td>\n",
              "    </tr>\n",
              "    <tr>\n",
              "      <th>3</th>\n",
              "      <td>Enigma</td>\n",
              "      <td>Logged In</td>\n",
              "      <td>Micah</td>\n",
              "      <td>M</td>\n",
              "      <td>80</td>\n",
              "      <td>Long</td>\n",
              "      <td>262.71302</td>\n",
              "      <td>free</td>\n",
              "      <td>Boston-Cambridge-Newton, MA-NH</td>\n",
              "      <td>PUT</td>\n",
              "      <td>NextSong</td>\n",
              "      <td>1538331630000</td>\n",
              "      <td>8</td>\n",
              "      <td>Knocking On Forbidden Doors</td>\n",
              "      <td>200</td>\n",
              "      <td>1538352416000</td>\n",
              "      <td>\"Mozilla/5.0 (Windows NT 6.1; WOW64) AppleWebK...</td>\n",
              "      <td>9</td>\n",
              "    </tr>\n",
              "    <tr>\n",
              "      <th>4</th>\n",
              "      <td>Daft Punk</td>\n",
              "      <td>Logged In</td>\n",
              "      <td>Colin</td>\n",
              "      <td>M</td>\n",
              "      <td>52</td>\n",
              "      <td>Freeman</td>\n",
              "      <td>223.60771</td>\n",
              "      <td>paid</td>\n",
              "      <td>Bakersfield, CA</td>\n",
              "      <td>PUT</td>\n",
              "      <td>NextSong</td>\n",
              "      <td>1538173362000</td>\n",
              "      <td>29</td>\n",
              "      <td>Harder Better Faster Stronger</td>\n",
              "      <td>200</td>\n",
              "      <td>1538352676000</td>\n",
              "      <td>Mozilla/5.0 (Windows NT 6.1; WOW64; rv:31.0) G...</td>\n",
              "      <td>30</td>\n",
              "    </tr>\n",
              "    <tr>\n",
              "      <th>...</th>\n",
              "      <td>...</td>\n",
              "      <td>...</td>\n",
              "      <td>...</td>\n",
              "      <td>...</td>\n",
              "      <td>...</td>\n",
              "      <td>...</td>\n",
              "      <td>...</td>\n",
              "      <td>...</td>\n",
              "      <td>...</td>\n",
              "      <td>...</td>\n",
              "      <td>...</td>\n",
              "      <td>...</td>\n",
              "      <td>...</td>\n",
              "      <td>...</td>\n",
              "      <td>...</td>\n",
              "      <td>...</td>\n",
              "      <td>...</td>\n",
              "      <td>...</td>\n",
              "    </tr>\n",
              "    <tr>\n",
              "      <th>278149</th>\n",
              "      <td>Iron Maiden</td>\n",
              "      <td>Logged In</td>\n",
              "      <td>Emilia</td>\n",
              "      <td>F</td>\n",
              "      <td>38</td>\n",
              "      <td>House</td>\n",
              "      <td>258.66404</td>\n",
              "      <td>paid</td>\n",
              "      <td>New York-Newark-Jersey City, NY-NJ-PA</td>\n",
              "      <td>PUT</td>\n",
              "      <td>NextSong</td>\n",
              "      <td>1538336771000</td>\n",
              "      <td>500</td>\n",
              "      <td>Murders In The Rue Morgue (1998 Digital Remaster)</td>\n",
              "      <td>200</td>\n",
              "      <td>1543622121000</td>\n",
              "      <td>Mozilla/5.0 (compatible; MSIE 9.0; Windows NT ...</td>\n",
              "      <td>300011</td>\n",
              "    </tr>\n",
              "    <tr>\n",
              "      <th>278150</th>\n",
              "      <td>None</td>\n",
              "      <td>Logged In</td>\n",
              "      <td>Emilia</td>\n",
              "      <td>F</td>\n",
              "      <td>39</td>\n",
              "      <td>House</td>\n",
              "      <td>NaN</td>\n",
              "      <td>paid</td>\n",
              "      <td>New York-Newark-Jersey City, NY-NJ-PA</td>\n",
              "      <td>PUT</td>\n",
              "      <td>Logout</td>\n",
              "      <td>1538336771000</td>\n",
              "      <td>500</td>\n",
              "      <td>None</td>\n",
              "      <td>307</td>\n",
              "      <td>1543622122000</td>\n",
              "      <td>Mozilla/5.0 (compatible; MSIE 9.0; Windows NT ...</td>\n",
              "      <td>300011</td>\n",
              "    </tr>\n",
              "    <tr>\n",
              "      <th>278151</th>\n",
              "      <td>None</td>\n",
              "      <td>Logged In</td>\n",
              "      <td>Emilia</td>\n",
              "      <td>F</td>\n",
              "      <td>43</td>\n",
              "      <td>House</td>\n",
              "      <td>NaN</td>\n",
              "      <td>paid</td>\n",
              "      <td>New York-Newark-Jersey City, NY-NJ-PA</td>\n",
              "      <td>GET</td>\n",
              "      <td>Home</td>\n",
              "      <td>1538336771000</td>\n",
              "      <td>500</td>\n",
              "      <td>None</td>\n",
              "      <td>200</td>\n",
              "      <td>1543622248000</td>\n",
              "      <td>Mozilla/5.0 (compatible; MSIE 9.0; Windows NT ...</td>\n",
              "      <td>300011</td>\n",
              "    </tr>\n",
              "    <tr>\n",
              "      <th>278152</th>\n",
              "      <td>None</td>\n",
              "      <td>Logged In</td>\n",
              "      <td>Emilia</td>\n",
              "      <td>F</td>\n",
              "      <td>44</td>\n",
              "      <td>House</td>\n",
              "      <td>NaN</td>\n",
              "      <td>paid</td>\n",
              "      <td>New York-Newark-Jersey City, NY-NJ-PA</td>\n",
              "      <td>GET</td>\n",
              "      <td>About</td>\n",
              "      <td>1538336771000</td>\n",
              "      <td>500</td>\n",
              "      <td>None</td>\n",
              "      <td>200</td>\n",
              "      <td>1543622398000</td>\n",
              "      <td>Mozilla/5.0 (compatible; MSIE 9.0; Windows NT ...</td>\n",
              "      <td>300011</td>\n",
              "    </tr>\n",
              "    <tr>\n",
              "      <th>278153</th>\n",
              "      <td>Camera Obscura</td>\n",
              "      <td>Logged In</td>\n",
              "      <td>Emilia</td>\n",
              "      <td>F</td>\n",
              "      <td>45</td>\n",
              "      <td>House</td>\n",
              "      <td>170.89261</td>\n",
              "      <td>paid</td>\n",
              "      <td>New York-Newark-Jersey City, NY-NJ-PA</td>\n",
              "      <td>PUT</td>\n",
              "      <td>NextSong</td>\n",
              "      <td>1538336771000</td>\n",
              "      <td>500</td>\n",
              "      <td>The Sun On His Back</td>\n",
              "      <td>200</td>\n",
              "      <td>1543622411000</td>\n",
              "      <td>Mozilla/5.0 (compatible; MSIE 9.0; Windows NT ...</td>\n",
              "      <td>300011</td>\n",
              "    </tr>\n",
              "  </tbody>\n",
              "</table>\n",
              "<p>278154 rows × 18 columns</p>\n",
              "</div>\n",
              "      <button class=\"colab-df-convert\" onclick=\"convertToInteractive('df-899bee7e-933e-4eb9-8429-57f23b2e3cee')\"\n",
              "              title=\"Convert this dataframe to an interactive table.\"\n",
              "              style=\"display:none;\">\n",
              "        \n",
              "  <svg xmlns=\"http://www.w3.org/2000/svg\" height=\"24px\"viewBox=\"0 0 24 24\"\n",
              "       width=\"24px\">\n",
              "    <path d=\"M0 0h24v24H0V0z\" fill=\"none\"/>\n",
              "    <path d=\"M18.56 5.44l.94 2.06.94-2.06 2.06-.94-2.06-.94-.94-2.06-.94 2.06-2.06.94zm-11 1L8.5 8.5l.94-2.06 2.06-.94-2.06-.94L8.5 2.5l-.94 2.06-2.06.94zm10 10l.94 2.06.94-2.06 2.06-.94-2.06-.94-.94-2.06-.94 2.06-2.06.94z\"/><path d=\"M17.41 7.96l-1.37-1.37c-.4-.4-.92-.59-1.43-.59-.52 0-1.04.2-1.43.59L10.3 9.45l-7.72 7.72c-.78.78-.78 2.05 0 2.83L4 21.41c.39.39.9.59 1.41.59.51 0 1.02-.2 1.41-.59l7.78-7.78 2.81-2.81c.8-.78.8-2.07 0-2.86zM5.41 20L4 18.59l7.72-7.72 1.47 1.35L5.41 20z\"/>\n",
              "  </svg>\n",
              "      </button>\n",
              "      \n",
              "  <style>\n",
              "    .colab-df-container {\n",
              "      display:flex;\n",
              "      flex-wrap:wrap;\n",
              "      gap: 12px;\n",
              "    }\n",
              "\n",
              "    .colab-df-convert {\n",
              "      background-color: #E8F0FE;\n",
              "      border: none;\n",
              "      border-radius: 50%;\n",
              "      cursor: pointer;\n",
              "      display: none;\n",
              "      fill: #1967D2;\n",
              "      height: 32px;\n",
              "      padding: 0 0 0 0;\n",
              "      width: 32px;\n",
              "    }\n",
              "\n",
              "    .colab-df-convert:hover {\n",
              "      background-color: #E2EBFA;\n",
              "      box-shadow: 0px 1px 2px rgba(60, 64, 67, 0.3), 0px 1px 3px 1px rgba(60, 64, 67, 0.15);\n",
              "      fill: #174EA6;\n",
              "    }\n",
              "\n",
              "    [theme=dark] .colab-df-convert {\n",
              "      background-color: #3B4455;\n",
              "      fill: #D2E3FC;\n",
              "    }\n",
              "\n",
              "    [theme=dark] .colab-df-convert:hover {\n",
              "      background-color: #434B5C;\n",
              "      box-shadow: 0px 1px 3px 1px rgba(0, 0, 0, 0.15);\n",
              "      filter: drop-shadow(0px 1px 2px rgba(0, 0, 0, 0.3));\n",
              "      fill: #FFFFFF;\n",
              "    }\n",
              "  </style>\n",
              "\n",
              "      <script>\n",
              "        const buttonEl =\n",
              "          document.querySelector('#df-899bee7e-933e-4eb9-8429-57f23b2e3cee button.colab-df-convert');\n",
              "        buttonEl.style.display =\n",
              "          google.colab.kernel.accessAllowed ? 'block' : 'none';\n",
              "\n",
              "        async function convertToInteractive(key) {\n",
              "          const element = document.querySelector('#df-899bee7e-933e-4eb9-8429-57f23b2e3cee');\n",
              "          const dataTable =\n",
              "            await google.colab.kernel.invokeFunction('convertToInteractive',\n",
              "                                                     [key], {});\n",
              "          if (!dataTable) return;\n",
              "\n",
              "          const docLinkHtml = 'Like what you see? Visit the ' +\n",
              "            '<a target=\"_blank\" href=https://colab.research.google.com/notebooks/data_table.ipynb>data table notebook</a>'\n",
              "            + ' to learn more about interactive tables.';\n",
              "          element.innerHTML = '';\n",
              "          dataTable['output_type'] = 'display_data';\n",
              "          await google.colab.output.renderOutput(dataTable, element);\n",
              "          const docLink = document.createElement('div');\n",
              "          docLink.innerHTML = docLinkHtml;\n",
              "          element.appendChild(docLink);\n",
              "        }\n",
              "      </script>\n",
              "    </div>\n",
              "  </div>\n",
              "  "
            ],
            "text/plain": [
              "                  artist  ...  userId\n",
              "0         Martha Tilston  ...      30\n",
              "1       Five Iron Frenzy  ...       9\n",
              "2           Adam Lambert  ...      30\n",
              "3                 Enigma  ...       9\n",
              "4              Daft Punk  ...      30\n",
              "...                  ...  ...     ...\n",
              "278149       Iron Maiden  ...  300011\n",
              "278150              None  ...  300011\n",
              "278151              None  ...  300011\n",
              "278152              None  ...  300011\n",
              "278153    Camera Obscura  ...  300011\n",
              "\n",
              "[278154 rows x 18 columns]"
            ]
          },
          "metadata": {},
          "execution_count": 14
        }
      ],
      "source": [
        "df_pandas = df.toPandas()\n",
        "df_pandas"
      ]
    },
    {
      "cell_type": "code",
      "execution_count": 15,
      "metadata": {
        "id": "QaZBEqhyF_9j"
      },
      "outputs": [],
      "source": [
        "# clearly represent registration and timestamp by creating new columns\n",
        "new_ts = udf(lambda x: datetime.datetime.fromtimestamp(x / 1000.0).strftime(\"%m-%d-%Y %H:%M:%S\"))\n",
        "df = df.withColumn('updated_registration', new_ts('registration'))\n",
        "df = df.withColumn('updated_ts', new_ts('ts'))"
      ]
    },
    {
      "cell_type": "code",
      "source": [
        "# add a new column \"downgrade_value\" to mark Submit Downgrade\n",
        "downgrade_value  = udf(lambda x: 1 if x == \"Submit Downgrade\" else 0, IntegerType())\n",
        "df = df.withColumn(\"downgrade_value\", downgrade_value(\"page\"))\n",
        "\n",
        "# label users who have downgraded\n",
        "dg_window = Window.partitionBy('UserId')\n",
        "df = df.withColumn(\"user_downgrade\", max('downgrade_value').over(dg_window))\n",
        "\n",
        "# add a new column \"churn_value\" to mark cancellation event\n",
        "churn_value = udf(lambda x: 1 if x == 'Cancellation Confirmation' else 0, IntegerType())\n",
        "df = df.withColumn(\"churn_value\", churn_value(\"page\"))\n",
        "\n",
        "# label users who have churned\n",
        "churn_window = Window.partitionBy(\"userId\").rangeBetween(Window.unboundedPreceding, Window.unboundedFollowing)\n",
        "df = df.withColumn(\"user_churn\", sum('churn_value').over(churn_window))"
      ],
      "metadata": {
        "id": "oT6aGcBNJyOK"
      },
      "execution_count": 16,
      "outputs": []
    },
    {
      "cell_type": "code",
      "source": [
        "plt.grid(True)\n",
        "df_ch_pd = df.drop_duplicates(['userId']).groupby(['user_churn']).count().sort(\"user_churn\").toPandas()\n",
        "sns.barplot(data =df_ch_pd, x = 'user_churn',y = 'count')\n",
        "churn_d = ['Active', 'Cancelled']\n",
        "x_pos = np.arange(len(churn_d))\n",
        "plt.xticks(x_pos,churn_d)\n",
        "plt.title('Number of unique users by Subscription status')\n",
        "plt.ylabel('Number of users')\n",
        "plt.xlabel('Subscription status')"
      ],
      "metadata": {
        "colab": {
          "base_uri": "https://localhost:8080/",
          "height": 319
        },
        "id": "6TkDURbVJyYt",
        "outputId": "f4ffc285-4c6f-42b6-9b5a-2c039d81376d"
      },
      "execution_count": 17,
      "outputs": [
        {
          "output_type": "execute_result",
          "data": {
            "text/plain": [
              "Text(0.5, 0, 'Subscription status')"
            ]
          },
          "metadata": {},
          "execution_count": 17
        },
        {
          "output_type": "display_data",
          "data": {
            "image/png": "[encoded data removed]",
            "text/plain": [
              "<Figure size 432x288 with 1 Axes>"
            ]
          },
          "metadata": {}
        }
      ]
    },
    {
      "cell_type": "code",
      "source": [
        "# Plotting a bar plot to show gender distribution by Subscription status\n",
        "plt.grid(True)\n",
        "df_ch_pd = df.drop_duplicates(['userId', 'gender']).groupby(['user_churn', 'gender']).count().sort(\"user_churn\").toPandas()\n",
        "sns.barplot(x = 'user_churn', y = 'count', data = df_ch_pd, hue = 'gender')\n",
        "churn_d = ['Active', 'Cancelled']\n",
        "y_pos = np.arange(len(churn_d))\n",
        "plt.xticks(y_pos,churn_d)\n",
        "plt.title(\"Gender distribution by Subscription status\")\n",
        "plt.ylabel('Number of users')\n",
        "plt.xlabel('Subscription status')"
      ],
      "metadata": {
        "colab": {
          "base_uri": "https://localhost:8080/",
          "height": 319
        },
        "id": "NteIO-sdJyei",
        "outputId": "ab8a91ce-4a32-47dc-83c5-a8bf860e557c"
      },
      "execution_count": 18,
      "outputs": [
        {
          "output_type": "execute_result",
          "data": {
            "text/plain": [
              "Text(0.5, 0, 'Subscription status')"
            ]
          },
          "metadata": {},
          "execution_count": 18
        },
        {
          "output_type": "display_data",
          "data": {
            "image/png": "[encoded data removed]",
            "text/plain": [
              "<Figure size 432x288 with 1 Axes>"
            ]
          },
          "metadata": {}
        }
      ]
    },
    {
      "cell_type": "code",
      "execution_count": 19,
      "metadata": {
        "colab": {
          "base_uri": "https://localhost:8080/",
          "height": 319
        },
        "id": "_DX8olH7F_9k",
        "outputId": "7c01ee17-d03d-4119-9904-21be121cebe7"
      },
      "outputs": [
        {
          "output_type": "execute_result",
          "data": {
            "text/plain": [
              "Text(0.5, 0, 'Subscription status')"
            ]
          },
          "metadata": {},
          "execution_count": 19
        },
        {
          "output_type": "display_data",
          "data": {
            "image/png": "[encoded data removed]",
            "text/plain": [
              "<Figure size 432x288 with 1 Axes>"
            ]
          },
          "metadata": {}
        }
      ],
      "source": [
        "# Plotting a bar plot to show level distribution by Subscription status\n",
        "plt.grid(True)\n",
        "level_df = df.drop_duplicates(['userId','churn_value', 'level']).groupby(['churn_value', 'level']).count().sort(\"churn_value\").toPandas()\n",
        "sns.barplot(x = 'churn_value', y = 'count', data = level_df, hue = 'level')\n",
        "churn_d = ['Active', 'Cancelled']\n",
        "x_pos = np.arange(len(churn_d))\n",
        "plt.xticks(x_pos,churn_d)\n",
        "plt.title(\"Free\\Paid levels distribution by Subscription status\")\n",
        "plt.ylabel('Number of users')\n",
        "plt.xlabel('Subscription status')"
      ]
    },
    {
      "cell_type": "code",
      "source": [
        "page_df = df.groupby(['page','user_churn']).count().toPandas()\n",
        "page_df = page_df[page_df['page'] != 'NextSong']\n",
        "page_df = ((page_df.groupby(['page','user_churn']).sum()/page_df.groupby(['user_churn']).sum())*100).reset_index()\n",
        "page_df['user_churn'].replace({0:'Active', 1: 'Cancelled'},inplace = True)\n",
        "plt.figure(figsize=(8,10))\n",
        "plt.grid(True)\n",
        "sns.barplot(y = 'page', x = 'count', data = page_df, hue = 'user_churn')\n",
        "plt.title(\" % of events by Subscription status\")\n",
        "sns.set_hls_values\n",
        "plt.ylabel('Eventes')\n",
        "plt.xlabel('% of envents')"
      ],
      "metadata": {
        "colab": {
          "base_uri": "https://localhost:8080/",
          "height": 645
        },
        "id": "OXiHAm-CKKkd",
        "outputId": "4b71fa06-ce3b-409e-f393-526f5ff90875"
      },
      "execution_count": 20,
      "outputs": [
        {
          "output_type": "execute_result",
          "data": {
            "text/plain": [
              "Text(0.5, 0, '% of envents')"
            ]
          },
          "metadata": {},
          "execution_count": 20
        },
        {
          "output_type": "display_data",
          "data": {
            "image/png": "[encoded data removed]",
            "text/plain": [
              "<Figure size 576x720 with 1 Axes>"
            ]
          },
          "metadata": {}
        }
      ]
    },
    {
      "cell_type": "code",
      "source": [
        ""
      ],
      "metadata": {
        "id": "stP4EV5tKKug"
      },
      "execution_count": 20,
      "outputs": []
    },
    {
      "cell_type": "markdown",
      "metadata": {
        "id": "jwtyaq2kF_9k"
      },
      "source": [
        "# Feature Engineering\n",
        "Once you've familiarized yourself with the data, build out the features you find promising to train your model on. To work with the full dataset, you can follow the following steps.\n",
        "- Write a script to extract the necessary features from the smaller subset of data\n",
        "- Ensure that your script is scalable, using the best practices discussed in Lesson 3\n",
        "- Try your script on the full data set, debugging your script if necessary\n",
        "\n",
        "If you are working in the classroom workspace, you can just extract features based on the small subset of data contained here. Be sure to transfer over this work to the larger dataset when you work on your Spark cluster."
      ]
    },
    {
      "cell_type": "code",
      "execution_count": 21,
      "metadata": {
        "id": "ekWlE3ojF_9l"
      },
      "outputs": [],
      "source": [
        "# Feature 1 : Total number of  songs listened\n",
        "feat_1 = df.select('userId', 'song').groupBy('userId').count().withColumnRenamed('count', 'tot_songs')"
      ]
    },
    {
      "cell_type": "code",
      "source": [
        "# Feature 2 : Total time spent \n",
        "feat_2 = df.select('userID','length').groupBy('userID').agg({'length':'sum'}).withColumnRenamed('sum(length)', 'listen_time')"
      ],
      "metadata": {
        "id": "JWcW5dswKQ81"
      },
      "execution_count": 22,
      "outputs": []
    },
    {
      "cell_type": "code",
      "source": [
        "# Feature 3 : Number of thumbs-up, Feature 4 : thumbs-down\n",
        "feat_3 = df.select('userID','page').where(df.page == 'Thumbs Up').groupBy('userID').agg({'page':'count'}).withColumnRenamed('count(page)', 'num_thumb_up')\n",
        "feat_4 = df .select('userID','page').where(df.page == 'Thumbs Down').groupBy('userID').agg({'page':'count'}).withColumnRenamed('count(page)', 'num_thumb_down')\n"
      ],
      "metadata": {
        "id": "MapVvYU1KQ_i"
      },
      "execution_count": 23,
      "outputs": []
    },
    {
      "cell_type": "code",
      "source": [
        "# Feature 5 : Number of adds to playlist\n",
        "feat_5 = df.select('userID','page').where(df.page == 'Add to Playlist').groupBy('userID').agg({'page':'count'}).withColumnRenamed('count(page)', 'add_to_playlist')\n"
      ],
      "metadata": {
        "id": "I4RFkIRhKRCC"
      },
      "execution_count": 24,
      "outputs": []
    },
    {
      "cell_type": "code",
      "source": [
        "# Feature 6 : Number of lifetime\n",
        "feat_6 = df.select('userID','registration','ts').withColumn('lifetime',(df.ts-df.registration)).groupBy('userID').agg({'lifetime':'max'}).withColumnRenamed('max(lifetime)','lt')\n"
      ],
      "metadata": {
        "id": "7QGt9ezEKRE1"
      },
      "execution_count": 25,
      "outputs": []
    },
    {
      "cell_type": "code",
      "source": [
        "# Feature 7 : Total number of friends\n",
        "feat_7 = df.select('userId', 'page').where(df.page == 'Add Friend').groupBy('userId').count().withColumnRenamed('count', 'tot_friends')"
      ],
      "metadata": {
        "id": "8bGvyQpVKRH4"
      },
      "execution_count": 26,
      "outputs": []
    },
    {
      "cell_type": "code",
      "source": [
        "# Feature 8 : Gender of the user\n",
        "feat_8 = df.select('userId', 'gender').dropDuplicates().replace(['F', 'M'], ['0', '1'], 'gender').select('userId', col('gender').cast('int'))"
      ],
      "metadata": {
        "id": "4HO8Cq0NKRKx"
      },
      "execution_count": 27,
      "outputs": []
    },
    {
      "cell_type": "code",
      "source": [
        "# Feature 9: Number of help AND  Feature 10 : Number of rolladvert\n",
        "feat_9 = df.select('userID','page').where(df.page == 'Help').groupBy('userID').agg({'page':'count'}).withColumnRenamed('count(page)', 'help') \n",
        "feat_10 = df.select('userID','page').where(df.page == 'Roll Advert').groupBy('userID').agg({'page':'count'}).withColumnRenamed('count(page)', 'rolladvert')\n"
      ],
      "metadata": {
        "id": "PVwZijUgK2ra"
      },
      "execution_count": 28,
      "outputs": []
    },
    {
      "cell_type": "code",
      "source": [
        "# Feature 11 : Total number of songs listened per session\n",
        "feat_11  = df.where('page == \"NextSong\"').groupby(['userId', 'sessionId']).count().groupby('userId')\\\n",
        "          .agg({'count' : 'avg'}).withColumnRenamed('avg(count)', 'avg_played_songs')"
      ],
      "metadata": {
        "id": "TAMgS6STLOEG"
      },
      "execution_count": 29,
      "outputs": []
    },
    {
      "cell_type": "code",
      "source": [
        "# Feature 12 : Total number of artists the user has listened to\n",
        "feat_12 = df.filter(df.page == \"NextSong\").select(\"userId\", \"artist\").dropDuplicates().groupby(\"userId\").count()\\\n",
        "         .withColumnRenamed(\"count\", \"tot_artist_played\")"
      ],
      "metadata": {
        "id": "3mW-QzqdK2uV"
      },
      "execution_count": 30,
      "outputs": []
    },
    {
      "cell_type": "code",
      "source": [
        "# setting the churn label for our model\n",
        "target = df.select('userId', col('user_churn').alias('label')).dropDuplicates()"
      ],
      "metadata": {
        "id": "r0M9gMrfLDof"
      },
      "execution_count": 31,
      "outputs": []
    },
    {
      "cell_type": "code",
      "source": [
        "# Combining all features with the target churn label\n",
        "final_data  = feat_1.join(feat_2,'userID','outer') \\\n",
        "    .join(feat_3,'userID','outer') \\\n",
        "    .join(feat_4,'userID','outer') \\\n",
        "    .join(feat_5,'userID','outer') \\\n",
        "    .join(feat_6,'userID','outer') \\\n",
        "    .join(feat_7,'userID','outer') \\\n",
        "    .join(feat_8,'userID','outer') \\\n",
        "    .join(feat_9,'userID','outer') \\\n",
        "    .join(feat_10,'userID','outer') \\\n",
        "    .join(feat_11,'userID','outer') \\\n",
        "    .join(feat_12,'userID','outer') \\\n",
        "    .join(target,'userID','outer') \\\n",
        "    .drop('userID') \\\n",
        "    .fillna(0)"
      ],
      "metadata": {
        "id": "67J2UA2lLIdt"
      },
      "execution_count": 32,
      "outputs": []
    },
    {
      "cell_type": "code",
      "source": [
        "final_data.show(5)"
      ],
      "metadata": {
        "colab": {
          "base_uri": "https://localhost:8080/"
        },
        "id": "V--59luGLIuZ",
        "outputId": "d6b866f7-766e-40de-e2ff-92faa72d815a"
      },
      "execution_count": 33,
      "outputs": [
        {
          "output_type": "stream",
          "name": "stdout",
          "text": [
            "+---------+------------------+------------+--------------+---------------+-----------+-----------+------+----+----------+------------------+-----------------+-----+\n",
            "|tot_songs|       listen_time|num_thumb_up|num_thumb_down|add_to_playlist|         lt|tot_friends|gender|help|rolladvert|  avg_played_songs|tot_artist_played|label|\n",
            "+---------+------------------+------------+--------------+---------------+-----------+-----------+------+----+----------+------------------+-----------------+-----+\n",
            "|      795|166866.37251000002|          37|             4|              9| 4472293000|         12|     1|   1|         1|112.16666666666667|              565|    0|\n",
            "|     3214| 672877.8565899999|         148|            27|             61| 5605094000|         49|     1|  18|        25| 78.88235294117646|             1705|    0|\n",
            "|      187|35073.742150000005|           8|             2|              3| 3870739000|          2|     0|   1|        14|             33.25|              125|    1|\n",
            "|      218| 49559.91809999999|           5|             0|              5|13864787000|          1|     0|   0|         3|             48.75|              184|    0|\n",
            "|       78|12306.419320000003|           3|             0|              2| 1965437000|          0|     0|   1|         9|              25.5|               50|    1|\n",
            "+---------+------------------+------------+--------------+---------------+-----------+-----------+------+----+----------+------------------+-----------------+-----+\n",
            "only showing top 5 rows\n",
            "\n"
          ]
        }
      ]
    },
    {
      "cell_type": "code",
      "source": [
        "incol = ['tot_songs',\n",
        " 'listen_time',\n",
        " 'num_thumb_up',\n",
        " 'num_thumb_down',\n",
        " 'add_to_playlist',\n",
        " 'lt',\n",
        " 'tot_friends',\n",
        " 'gender',\n",
        " 'help',\n",
        " 'rolladvert',\n",
        " 'avg_played_songs',\n",
        " 'tot_artist_played']\n",
        "assembler = VectorAssembler(inputCols=incol, outputCol=\"NumFeatures\")\n",
        "final_data = assembler.transform(final_data)"
      ],
      "metadata": {
        "id": "Bbq_UEqTLZdE"
      },
      "execution_count": 34,
      "outputs": []
    },
    {
      "cell_type": "code",
      "source": [
        "scaler2 = StandardScaler(inputCol=\"NumFeatures\", outputCol=\"features\", withStd=True)\n",
        "scalerModel = scaler2.fit(final_data)\n",
        "final_data = scalerModel.transform(final_data)"
      ],
      "metadata": {
        "id": "o6Bm3QmELZn4"
      },
      "execution_count": 35,
      "outputs": []
    },
    {
      "cell_type": "code",
      "source": [
        "final_data.take(2)"
      ],
      "metadata": {
        "colab": {
          "base_uri": "https://localhost:8080/"
        },
        "id": "qjQNtQFULkX8",
        "outputId": "7fb87456-518e-4f59-f186-5dc91972e3a1"
      },
      "execution_count": 36,
      "outputs": [
        {
          "output_type": "execute_result",
          "data": {
            "text/plain": [
              "[Row(tot_songs=795, listen_time=166866.37251000002, num_thumb_up=37, num_thumb_down=4, add_to_playlist=9, lt=4472293000, tot_friends=12, gender=1, help=1, rolladvert=1, avg_played_songs=112.16666666666667, tot_artist_played=565, label=0, NumFeatures=DenseVector([795.0, 166866.3725, 37.0, 4.0, 9.0, 4472293000.0, 12.0, 1.0, 1.0, 1.0, 112.1667, 565.0]), features=DenseVector([0.598, 0.6059, 0.5651, 0.3059, 0.2751, 1.3744, 0.583, 2.0013, 0.1381, 0.0464, 2.6321, 0.9355])),\n",
              " Row(tot_songs=3214, listen_time=672877.8565899999, num_thumb_up=148, num_thumb_down=27, add_to_playlist=61, lt=5605094000, tot_friends=49, gender=1, help=18, rolladvert=25, avg_played_songs=78.88235294117646, tot_artist_played=1705, label=0, NumFeatures=DenseVector([3214.0, 672877.8566, 148.0, 27.0, 61.0, 5605094000.0, 49.0, 1.0, 18.0, 25.0, 78.8824, 1705.0]), features=DenseVector([2.4174, 2.4433, 2.2603, 2.0646, 1.8645, 1.7226, 2.3808, 2.0013, 2.4853, 1.1601, 1.851, 2.8231]))]"
            ]
          },
          "metadata": {},
          "execution_count": 36
        }
      ]
    },
    {
      "cell_type": "code",
      "source": [
        ""
      ],
      "metadata": {
        "id": "OFH7exuoLkmr"
      },
      "execution_count": 36,
      "outputs": []
    },
    {
      "cell_type": "markdown",
      "metadata": {
        "id": "p8tp5PMIF_9l"
      },
      "source": [
        "# Modeling\n",
        "Split the full dataset into train, test, and validation sets. Test out several of the machine learning methods you learned. Evaluate the accuracy of the various models, tuning parameters as necessary. Determine your winning model based on test accuracy and report results on the validation set. Since the churned users are a fairly small subset, I suggest using F1 score as the metric to optimize."
      ]
    },
    {
      "cell_type": "code",
      "execution_count": 37,
      "metadata": {
        "id": "d9tX30ZqF_9m"
      },
      "outputs": [],
      "source": [
        "final_data2 = final_data.select('label','features')"
      ]
    },
    {
      "cell_type": "code",
      "source": [
        "train,validation = final_data2.randomSplit([0.8, 0.2], seed=50)"
      ],
      "metadata": {
        "id": "q2VE37RiL-dd"
      },
      "execution_count": 38,
      "outputs": []
    },
    {
      "cell_type": "code",
      "source": [
        "# Models to train: logistic regression, svm, gradient boosting tree\n",
        "logistic_reg = LogisticRegression(maxIter=10, regParam =0.0)\n",
        "gbt = GBTClassifier(maxDepth = 5, maxIter = 10, seed = 42)\n",
        "svm = LinearSVC (maxIter = 10,  regParam = 0.01)"
      ],
      "metadata": {
        "id": "KT2v02VKL-ph"
      },
      "execution_count": 39,
      "outputs": []
    },
    {
      "cell_type": "code",
      "source": [
        "#Logistic Regression\n",
        "e1 = MulticlassClassificationEvaluator(metricName='f1')\n",
        "paramGrid = ParamGridBuilder() \\\n",
        "    .addGrid(logistic_reg.regParam,[0.0, 0.05, 0.1]) \\\n",
        "    .build()\n",
        "crossval = CrossValidator(estimator=logistic_reg,\n",
        "                          estimatorParamMaps=paramGrid,\n",
        "                          evaluator=e1,\n",
        "                          numFolds=3)\n",
        "cvModel_q1 = crossval.fit(train)\n",
        "cvModel_q1.avgMetrics"
      ],
      "metadata": {
        "colab": {
          "base_uri": "https://localhost:8080/"
        },
        "id": "WeSOn4zFL-tc",
        "outputId": "2dc13b6f-f387-4fa7-ca38-5e896e167d2d"
      },
      "execution_count": 40,
      "outputs": [
        {
          "output_type": "execute_result",
          "data": {
            "text/plain": [
              "[0.7261855843482503, 0.7090033708379673, 0.6651118892910759]"
            ]
          },
          "metadata": {},
          "execution_count": 40
        }
      ]
    },
    {
      "cell_type": "code",
      "source": [
        "# Support Vector Machine \n",
        "e1 = MulticlassClassificationEvaluator(metricName='f1')\n",
        "paramGrid = ParamGridBuilder() \\\n",
        "    .addGrid(svm.regParam,[0.01, 0.05, 0.5]) \\\n",
        "    .build()\n",
        "crossval = CrossValidator(estimator=svm,\n",
        "                          estimatorParamMaps=paramGrid,\n",
        "                          evaluator=e1,\n",
        "                          numFolds=3)\n",
        "cvModel_q2 = crossval.fit(train)\n",
        "cvModel_q2.avgMetrics"
      ],
      "metadata": {
        "colab": {
          "base_uri": "https://localhost:8080/"
        },
        "id": "66YoQz2bL-xr",
        "outputId": "370bf652-9ea9-4bf9-f2cf-d79c29c5b6f2"
      },
      "execution_count": 41,
      "outputs": [
        {
          "output_type": "execute_result",
          "data": {
            "text/plain": [
              "[0.6981530583500168, 0.6651118892910759, 0.6679271034270446]"
            ]
          },
          "metadata": {},
          "execution_count": 41
        }
      ]
    },
    {
      "cell_type": "code",
      "source": [
        "# Gradient boosted tree\n",
        "e1 = MulticlassClassificationEvaluator(metricName='f1')\n",
        "paramGrid = ParamGridBuilder() \\\n",
        "    .addGrid(gbt.maxDepth,[5, 10]) \\\n",
        "    .build()\n",
        "crossval = CrossValidator(estimator=gbt,\n",
        "                          estimatorParamMaps=paramGrid,\n",
        "                          evaluator=e1,\n",
        "                          numFolds=3)\n",
        "cvModel_q3 = crossval.fit(train)\n",
        "cvModel_q3.avgMetrics"
      ],
      "metadata": {
        "colab": {
          "base_uri": "https://localhost:8080/"
        },
        "id": "ISxx_UiIMI_U",
        "outputId": "62fe3806-215a-49d7-d0e4-9f2ce6bbce2c"
      },
      "execution_count": 42,
      "outputs": [
        {
          "output_type": "execute_result",
          "data": {
            "text/plain": [
              "[0.7265690975196695, 0.6963802702490324]"
            ]
          },
          "metadata": {},
          "execution_count": 42
        }
      ]
    },
    {
      "cell_type": "code",
      "source": [
        "gbt_tuned = GBTClassifier(maxDepth=5,maxIter=10,seed=42)\n",
        "gbt_model = gbt_tuned.fit(train)\n",
        "results = gbt_model.transform(validation)"
      ],
      "metadata": {
        "id": "pjMB-XS9MJCQ"
      },
      "execution_count": 43,
      "outputs": []
    },
    {
      "cell_type": "code",
      "source": [
        "evaluator = MulticlassClassificationEvaluator(predictionCol=\"prediction\")\n",
        "print(evaluator.evaluate(results, {evaluator.metricName: \"accuracy\"}))"
      ],
      "metadata": {
        "colab": {
          "base_uri": "https://localhost:8080/"
        },
        "id": "swNp9wNtMJE9",
        "outputId": "6d75fe0b-4f81-48da-8af6-5daa036f4125"
      },
      "execution_count": 44,
      "outputs": [
        {
          "output_type": "stream",
          "name": "stdout",
          "text": [
            "0.775\n"
          ]
        }
      ]
    },
    {
      "cell_type": "code",
      "source": [
        "print(evaluator.evaluate(results, {evaluator.metricName: \"f1\"}))"
      ],
      "metadata": {
        "colab": {
          "base_uri": "https://localhost:8080/"
        },
        "id": "76jhTTjgMJHR",
        "outputId": "da73226f-0d06-40e2-9835-760e2a1acf7e"
      },
      "execution_count": 45,
      "outputs": [
        {
          "output_type": "stream",
          "name": "stdout",
          "text": [
            "0.754616048317515\n"
          ]
        }
      ]
    },
    {
      "cell_type": "code",
      "source": [
        "gbt_model.featureImportances"
      ],
      "metadata": {
        "colab": {
          "base_uri": "https://localhost:8080/"
        },
        "id": "VzI7cGapMJKL",
        "outputId": "5c1ef878-9291-44bf-9e06-dd78f02a52e9"
      },
      "execution_count": 46,
      "outputs": [
        {
          "output_type": "execute_result",
          "data": {
            "text/plain": [
              "SparseVector(12, {0: 0.1112, 1: 0.0288, 2: 0.0634, 3: 0.1121, 4: 0.095, 5: 0.2105, 6: 0.0856, 7: 0.0171, 8: 0.0308, 9: 0.108, 10: 0.1202, 11: 0.0174})"
            ]
          },
          "metadata": {},
          "execution_count": 46
        }
      ]
    },
    {
      "cell_type": "code",
      "source": [
        "importances  = [ 0.134,0.0408,0.1519,0.0639,0.0946,0.2436,0.0988,0.0301,0.1421]\n",
        "feature = [\"listen_time\", \"num_song\", \"num_thumb_down\", \\\n",
        "          'num_thumb_up','add_to_playlist','lt','add_friend','help','rolladvert']\n",
        "y_pos = np.arange(len(feature))\n",
        " \n",
        "plt.barh(y_pos, importances, align='center')\n",
        "plt.yticks(y_pos, feature)\n",
        "plt.xlabel('Importance Score')\n",
        "plt.title('GBT Feature Importances')\n",
        "plt.savefig('GBT feature Importance.png', dpi=300)\n"
      ],
      "metadata": {
        "colab": {
          "base_uri": "https://localhost:8080/",
          "height": 301
        },
        "id": "sws-hyOTMT_9",
        "outputId": "8cc90cba-72d1-4e9f-cc96-1bba49bc5338"
      },
      "execution_count": 47,
      "outputs": [
        {
          "output_type": "display_data",
          "data": {
            "image/png": "[encoded data removed]",
            "text/plain": [
              "<Figure size 432x288 with 1 Axes>"
            ]
          },
          "metadata": {}
        }
      ]
    },
    {
      "cell_type": "markdown",
      "metadata": {
        "id": "wt7nDE5-F_9m"
      },
      "source": [
        "# Final Steps\n",
        "Clean up your code, adding comments and renaming variables to make the code easier to read and maintain. Refer to the Spark Project Overview page and Data Scientist Capstone Project Rubric to make sure you are including all components of the capstone project and meet all expectations. Remember, this includes thorough documentation in a README file in a Github repository, as well as a web app or blog post."
      ]
    },
    {
      "cell_type": "code",
      "execution_count": 47,
      "metadata": {
        "id": "wEa2Rn28F_9n"
      },
      "outputs": [],
      "source": [
        ""
      ]
    }
  ],
  "metadata": {
    "kernelspec": {
      "display_name": "Python 3",
      "language": "python",
      "name": "python3"
    },
    "language_info": {
      "codemirror_mode": {
        "name": "ipython",
        "version": 3
      },
      "file_extension": ".py",
      "mimetype": "text/x-python",
      "name": "python",
      "nbconvert_exporter": "python",
      "pygments_lexer": "ipython3",
      "version": "3.8.5"
    },
    "colab": {
      "name": "Sparkify.ipynb",
      "provenance": [],
      "collapsed_sections": []
    }
  },
  "nbformat": 4,
  "nbformat_minor": 0
}
